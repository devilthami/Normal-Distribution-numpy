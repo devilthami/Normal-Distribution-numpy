{
 "cells": [
  {
   "cell_type": "code",
   "execution_count": 1,
   "id": "a47a67f1-bde0-430a-a999-9e9b86c43ca8",
   "metadata": {},
   "outputs": [],
   "source": [
    "from numpy import random"
   ]
  },
  {
   "cell_type": "code",
   "execution_count": 2,
   "id": "8d114fc0-41a9-4ef6-acaa-ddde7190d84d",
   "metadata": {},
   "outputs": [
    {
     "name": "stdout",
     "output_type": "stream",
     "text": [
      "[[-0.80142772 -0.37847224 -1.85240188]\n",
      " [-1.19291315  1.28868519  0.38434664]]\n"
     ]
    }
   ],
   "source": [
    "x = random.normal(size=(2, 3))\n",
    "# print(x)"
   ]
  },
  {
   "cell_type": "code",
   "execution_count": 3,
   "id": "99cc2181-9928-408e-a8cb-776299f9d2a7",
   "metadata": {},
   "outputs": [
    {
     "name": "stdout",
     "output_type": "stream",
     "text": [
      "[[-0.80142772 -0.37847224 -1.85240188]\n",
      " [-1.19291315  1.28868519  0.38434664]]\n"
     ]
    }
   ],
   "source": [
    "X = random.normal(loc=1, scale=2, size=(2, 3))\n",
    "print(x)"
   ]
  },
  {
   "cell_type": "code",
   "execution_count": null,
   "id": "a62d03b5-4487-429b-8de7-86242b557f02",
   "metadata": {},
   "outputs": [],
   "source": []
  }
 ],
 "metadata": {
  "kernelspec": {
   "display_name": "Python 3 (ipykernel)",
   "language": "python",
   "name": "python3"
  },
  "language_info": {
   "codemirror_mode": {
    "name": "ipython",
    "version": 3
   },
   "file_extension": ".py",
   "mimetype": "text/x-python",
   "name": "python",
   "nbconvert_exporter": "python",
   "pygments_lexer": "ipython3",
   "version": "3.11.2"
  }
 },
 "nbformat": 4,
 "nbformat_minor": 5
}
